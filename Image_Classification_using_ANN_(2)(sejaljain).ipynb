{
  "cells": [
    {
      "cell_type": "markdown",
      "metadata": {
        "id": "view-in-github",
        "colab_type": "text"
      },
      "source": [
        "<a href=\"https://colab.research.google.com/github/sejal2712/machine_learning/blob/main/Image_Classification_using_ANN_(2)(sejaljain).ipynb\" target=\"_parent\"><img src=\"https://colab.research.google.com/assets/colab-badge.svg\" alt=\"Open In Colab\"/></a>"
      ]
    },
    {
      "cell_type": "markdown",
      "metadata": {
        "id": "JT4a4dwlqhsd"
      },
      "source": [
        "# Joint Online Faculty Development programme on Deep Learning (Parallel Architecture) Aug 23 – Sep 3 , 2021"
      ]
    },
    {
      "cell_type": "markdown",
      "metadata": {
        "id": "XwMdAK1XqmPI"
      },
      "source": [
        "# Tutorial 4: Covid 19 Prediction using Artificial Neural Networks"
      ]
    },
    {
      "cell_type": "markdown",
      "metadata": {
        "id": "y9dbM1bxjvnU"
      },
      "source": [
        "Dataset: [Covid 19 Chest X-ray dataset](https://www.kaggle.com/tawsifurrahman/covid19-radiography-database)\n",
        "\n",
        "\n",
        "A team of researchers from Qatar University, Doha, Qatar, and the University of Dhaka, Bangladesh along with their collaborators from Pakistan and Malaysia in collaboration with medical doctors have created a database of chest X-ray images for COVID-19 positive cases along with Normal and Viral Pneumonia images. This COVID-19, normal, and other lung infection dataset is released in stages. In the first release, we have released 219 COVID-19, 1341 normal, and 1345 viral pneumonia chest X-ray (CXR) images. In the first update, we have increased the COVID-19 class to 1200 CXR images. In the 2nd update, we have increased the database to 3616 COVID-19 positive cases along with 10,192 Normal, 6012 Lung Opacity (Non-COVID lung infection), and 1345 Viral Pneumonia images. We will continue to update this database as soon as we have new x-ray images for COVID-19 pneumonia patients.\n",
        "\n"
      ]
    },
    {
      "cell_type": "markdown",
      "metadata": {
        "id": "9mHnC6nNtBK1"
      },
      "source": [
        "**1. Mount the Google Drive**"
      ]
    },
    {
      "cell_type": "code",
      "execution_count": 1,
      "metadata": {
        "colab": {
          "base_uri": "https://localhost:8080/"
        },
        "id": "gORvsC4_s_fY",
        "outputId": "3312fdab-06e8-4e9c-cf30-0b426013edf3"
      },
      "outputs": [
        {
          "output_type": "stream",
          "name": "stdout",
          "text": [
            "Mounted at /content/drive\n"
          ]
        }
      ],
      "source": [
        "from google.colab import drive\n",
        "drive.mount('/content/drive')"
      ]
    },
    {
      "cell_type": "markdown",
      "metadata": {
        "id": "wiZOocimtGeu"
      },
      "source": [
        "**2. Move to the place where data resides**"
      ]
    },
    {
      "cell_type": "code",
      "execution_count": 2,
      "metadata": {
        "colab": {
          "base_uri": "https://localhost:8080/"
        },
        "id": "EdbGFIkPlah9",
        "outputId": "22942cb6-6c6b-44b6-9cf0-72d99b5daceb"
      },
      "outputs": [
        {
          "output_type": "stream",
          "name": "stdout",
          "text": [
            "[Errno 2] No such file or directory: '//covid_dataset (1).zip'\n",
            "/content\n"
          ]
        }
      ],
      "source": [
        "cd //covid_dataset (1).zip"
      ]
    },
    {
      "cell_type": "code",
      "execution_count": 3,
      "metadata": {
        "colab": {
          "base_uri": "https://localhost:8080/"
        },
        "id": "lqViJFpyjxJZ",
        "outputId": "78ba2f6e-6064-456d-c399-14eb48cb6231"
      },
      "outputs": [
        {
          "output_type": "stream",
          "name": "stdout",
          "text": [
            "drive  sample_data\n"
          ]
        }
      ],
      "source": [
        "!ls"
      ]
    },
    {
      "cell_type": "markdown",
      "metadata": {
        "id": "0e8v2RY-tKUs"
      },
      "source": [
        "**3. Unziping the dataset**"
      ]
    },
    {
      "cell_type": "code",
      "execution_count": 4,
      "metadata": {
        "colab": {
          "base_uri": "https://localhost:8080/"
        },
        "id": "PYfX_i50jzOc",
        "outputId": "de2ff8f1-9d41-4a25-a5bc-55d62fe4973c"
      },
      "outputs": [
        {
          "output_type": "stream",
          "name": "stdout",
          "text": [
            "Looking in indexes: https://pypi.org/simple, https://us-python.pkg.dev/colab-wheels/public/simple/\n",
            "Collecting unzip\n",
            "  Downloading unzip-1.0.0.tar.gz (704 bytes)\n",
            "  Preparing metadata (setup.py) ... \u001b[?25l\u001b[?25hdone\n",
            "Building wheels for collected packages: unzip\n",
            "  Building wheel for unzip (setup.py) ... \u001b[?25l\u001b[?25hdone\n",
            "  Created wheel for unzip: filename=unzip-1.0.0-py3-none-any.whl size=1310 sha256=3191b3371f0599fb45ed6118523f61bd0ce92acdcdd8f77a9621c3d4185f7a21\n",
            "  Stored in directory: /root/.cache/pip/wheels/88/2c/2b/d12ab5bb9f34eba42f98231b969311f33d7dc1a2f484b902d1\n",
            "Successfully built unzip\n",
            "Installing collected packages: unzip\n",
            "Successfully installed unzip-1.0.0\n"
          ]
        }
      ],
      "source": [
        "!pip install unzip"
      ]
    },
    {
      "cell_type": "code",
      "execution_count": 5,
      "metadata": {
        "colab": {
          "base_uri": "https://localhost:8080/"
        },
        "id": "kOWDshT6lb8K",
        "outputId": "91b3bd8d-b25f-4b59-ecc7-718bd5980f9c"
      },
      "outputs": [
        {
          "output_type": "stream",
          "name": "stdout",
          "text": [
            "Archive:  /content/drive/MyDrive/covid_dataset.zip\n",
            "   creating: covid_dataset/\n",
            "   creating: covid_dataset/COVID/\n",
            "  inflating: covid_dataset/COVID/COVID-1.png  \n",
            "  inflating: covid_dataset/COVID/COVID-10.png  \n",
            "  inflating: covid_dataset/COVID/COVID-11.png  \n",
            "  inflating: covid_dataset/COVID/COVID-12.png  \n",
            "  inflating: covid_dataset/COVID/COVID-13.png  \n",
            "  inflating: covid_dataset/COVID/COVID-14.png  \n",
            "  inflating: covid_dataset/COVID/COVID-15.png  \n",
            "  inflating: covid_dataset/COVID/COVID-16.png  \n",
            "  inflating: covid_dataset/COVID/COVID-17.png  \n",
            "  inflating: covid_dataset/COVID/COVID-18.png  \n",
            "  inflating: covid_dataset/COVID/COVID-19.png  \n",
            "  inflating: covid_dataset/COVID/COVID-2.png  \n",
            "  inflating: covid_dataset/COVID/COVID-20.png  \n",
            "  inflating: covid_dataset/COVID/COVID-21.png  \n",
            "  inflating: covid_dataset/COVID/COVID-22.png  \n",
            "  inflating: covid_dataset/COVID/COVID-23.png  \n",
            "  inflating: covid_dataset/COVID/COVID-24.png  \n",
            "  inflating: covid_dataset/COVID/COVID-25.png  \n",
            "  inflating: covid_dataset/COVID/COVID-26.png  \n",
            "  inflating: covid_dataset/COVID/COVID-27.png  \n",
            "  inflating: covid_dataset/COVID/COVID-28.png  \n",
            "  inflating: covid_dataset/COVID/COVID-29.png  \n",
            "  inflating: covid_dataset/COVID/COVID-3.png  \n",
            "  inflating: covid_dataset/COVID/COVID-30.png  \n",
            "  inflating: covid_dataset/COVID/COVID-31.png  \n",
            "  inflating: covid_dataset/COVID/COVID-32.png  \n",
            "  inflating: covid_dataset/COVID/COVID-33.png  \n",
            "  inflating: covid_dataset/COVID/COVID-34.png  \n",
            "  inflating: covid_dataset/COVID/COVID-35.png  \n",
            "  inflating: covid_dataset/COVID/COVID-36.png  \n",
            "  inflating: covid_dataset/COVID/COVID-37.png  \n",
            "  inflating: covid_dataset/COVID/COVID-38.png  \n",
            "  inflating: covid_dataset/COVID/COVID-39.png  \n",
            "  inflating: covid_dataset/COVID/COVID-4.png  \n",
            "  inflating: covid_dataset/COVID/COVID-40.png  \n",
            "  inflating: covid_dataset/COVID/COVID-41.png  \n",
            "  inflating: covid_dataset/COVID/COVID-42.png  \n",
            "  inflating: covid_dataset/COVID/COVID-43.png  \n",
            "  inflating: covid_dataset/COVID/COVID-44.png  \n",
            "  inflating: covid_dataset/COVID/COVID-45.png  \n",
            "  inflating: covid_dataset/COVID/COVID-46.png  \n",
            "  inflating: covid_dataset/COVID/COVID-47.png  \n",
            "  inflating: covid_dataset/COVID/COVID-48.png  \n",
            "  inflating: covid_dataset/COVID/COVID-49.png  \n",
            "  inflating: covid_dataset/COVID/COVID-5.png  \n",
            "  inflating: covid_dataset/COVID/COVID-50.png  \n",
            "  inflating: covid_dataset/COVID/COVID-6.png  \n",
            "  inflating: covid_dataset/COVID/COVID-7.png  \n",
            "  inflating: covid_dataset/COVID/COVID-8.png  \n",
            "  inflating: covid_dataset/COVID/COVID-9.png  \n",
            "   creating: covid_dataset/Normal/\n",
            "  inflating: covid_dataset/Normal/Normal-1.png  \n",
            "  inflating: covid_dataset/Normal/Normal-10.png  \n",
            "  inflating: covid_dataset/Normal/Normal-11.png  \n",
            "  inflating: covid_dataset/Normal/Normal-12.png  \n",
            "  inflating: covid_dataset/Normal/Normal-13.png  \n",
            "  inflating: covid_dataset/Normal/Normal-14.png  \n",
            "  inflating: covid_dataset/Normal/Normal-15.png  \n",
            "  inflating: covid_dataset/Normal/Normal-16.png  \n",
            "  inflating: covid_dataset/Normal/Normal-17.png  \n",
            "  inflating: covid_dataset/Normal/Normal-18.png  \n",
            "  inflating: covid_dataset/Normal/Normal-19.png  \n",
            "  inflating: covid_dataset/Normal/Normal-2.png  \n",
            "  inflating: covid_dataset/Normal/Normal-20.png  \n",
            "  inflating: covid_dataset/Normal/Normal-21.png  \n",
            "  inflating: covid_dataset/Normal/Normal-22.png  \n",
            "  inflating: covid_dataset/Normal/Normal-23.png  \n",
            "  inflating: covid_dataset/Normal/Normal-24.png  \n",
            "  inflating: covid_dataset/Normal/Normal-25.png  \n",
            "  inflating: covid_dataset/Normal/Normal-26.png  \n",
            "  inflating: covid_dataset/Normal/Normal-27.png  \n",
            "  inflating: covid_dataset/Normal/Normal-28.png  \n",
            "  inflating: covid_dataset/Normal/Normal-29.png  \n",
            "  inflating: covid_dataset/Normal/Normal-3.png  \n",
            "  inflating: covid_dataset/Normal/Normal-30.png  \n",
            "  inflating: covid_dataset/Normal/Normal-31.png  \n",
            "  inflating: covid_dataset/Normal/Normal-32.png  \n",
            "  inflating: covid_dataset/Normal/Normal-33.png  \n",
            "  inflating: covid_dataset/Normal/Normal-34.png  \n",
            "  inflating: covid_dataset/Normal/Normal-35.png  \n",
            "  inflating: covid_dataset/Normal/Normal-36.png  \n",
            "  inflating: covid_dataset/Normal/Normal-37.png  \n",
            "  inflating: covid_dataset/Normal/Normal-38.png  \n",
            "  inflating: covid_dataset/Normal/Normal-39.png  \n",
            "  inflating: covid_dataset/Normal/Normal-4.png  \n",
            "  inflating: covid_dataset/Normal/Normal-40.png  \n",
            "  inflating: covid_dataset/Normal/Normal-41.png  \n",
            "  inflating: covid_dataset/Normal/Normal-42.png  \n",
            "  inflating: covid_dataset/Normal/Normal-43.png  \n",
            "  inflating: covid_dataset/Normal/Normal-44.png  \n",
            "  inflating: covid_dataset/Normal/Normal-45.png  \n",
            "  inflating: covid_dataset/Normal/Normal-46.png  \n",
            "  inflating: covid_dataset/Normal/Normal-47.png  \n",
            "  inflating: covid_dataset/Normal/Normal-48.png  \n",
            "  inflating: covid_dataset/Normal/Normal-49.png  \n",
            "  inflating: covid_dataset/Normal/Normal-5.png  \n",
            "  inflating: covid_dataset/Normal/Normal-50.png  \n",
            "  inflating: covid_dataset/Normal/Normal-6.png  \n",
            "  inflating: covid_dataset/Normal/Normal-7.png  \n",
            "  inflating: covid_dataset/Normal/Normal-8.png  \n",
            "  inflating: covid_dataset/Normal/Normal-9.png  \n",
            "   creating: covid_dataset/Viral Pneumonia/\n",
            "  inflating: covid_dataset/Viral Pneumonia/Viral Pneumonia-1.png  \n",
            "  inflating: covid_dataset/Viral Pneumonia/Viral Pneumonia-10.png  \n",
            "  inflating: covid_dataset/Viral Pneumonia/Viral Pneumonia-11.png  \n",
            "  inflating: covid_dataset/Viral Pneumonia/Viral Pneumonia-12.png  \n",
            "  inflating: covid_dataset/Viral Pneumonia/Viral Pneumonia-13.png  \n",
            "  inflating: covid_dataset/Viral Pneumonia/Viral Pneumonia-14.png  \n",
            "  inflating: covid_dataset/Viral Pneumonia/Viral Pneumonia-15.png  \n",
            "  inflating: covid_dataset/Viral Pneumonia/Viral Pneumonia-16.png  \n",
            "  inflating: covid_dataset/Viral Pneumonia/Viral Pneumonia-17.png  \n",
            "  inflating: covid_dataset/Viral Pneumonia/Viral Pneumonia-18.png  \n",
            "  inflating: covid_dataset/Viral Pneumonia/Viral Pneumonia-19.png  \n",
            "  inflating: covid_dataset/Viral Pneumonia/Viral Pneumonia-2.png  \n",
            "  inflating: covid_dataset/Viral Pneumonia/Viral Pneumonia-20.png  \n",
            "  inflating: covid_dataset/Viral Pneumonia/Viral Pneumonia-21.png  \n",
            "  inflating: covid_dataset/Viral Pneumonia/Viral Pneumonia-22.png  \n",
            "  inflating: covid_dataset/Viral Pneumonia/Viral Pneumonia-23.png  \n",
            "  inflating: covid_dataset/Viral Pneumonia/Viral Pneumonia-24.png  \n",
            "  inflating: covid_dataset/Viral Pneumonia/Viral Pneumonia-25.png  \n",
            "  inflating: covid_dataset/Viral Pneumonia/Viral Pneumonia-26.png  \n",
            "  inflating: covid_dataset/Viral Pneumonia/Viral Pneumonia-27.png  \n",
            "  inflating: covid_dataset/Viral Pneumonia/Viral Pneumonia-28.png  \n",
            "  inflating: covid_dataset/Viral Pneumonia/Viral Pneumonia-29.png  \n",
            "  inflating: covid_dataset/Viral Pneumonia/Viral Pneumonia-3.png  \n",
            "  inflating: covid_dataset/Viral Pneumonia/Viral Pneumonia-30.png  \n",
            "  inflating: covid_dataset/Viral Pneumonia/Viral Pneumonia-31.png  \n",
            "  inflating: covid_dataset/Viral Pneumonia/Viral Pneumonia-32.png  \n",
            "  inflating: covid_dataset/Viral Pneumonia/Viral Pneumonia-33.png  \n",
            "  inflating: covid_dataset/Viral Pneumonia/Viral Pneumonia-34.png  \n",
            "  inflating: covid_dataset/Viral Pneumonia/Viral Pneumonia-35.png  \n",
            "  inflating: covid_dataset/Viral Pneumonia/Viral Pneumonia-36.png  \n",
            "  inflating: covid_dataset/Viral Pneumonia/Viral Pneumonia-37.png  \n",
            "  inflating: covid_dataset/Viral Pneumonia/Viral Pneumonia-38.png  \n",
            "  inflating: covid_dataset/Viral Pneumonia/Viral Pneumonia-39.png  \n",
            "  inflating: covid_dataset/Viral Pneumonia/Viral Pneumonia-4.png  \n",
            "  inflating: covid_dataset/Viral Pneumonia/Viral Pneumonia-40.png  \n",
            "  inflating: covid_dataset/Viral Pneumonia/Viral Pneumonia-41.png  \n",
            "  inflating: covid_dataset/Viral Pneumonia/Viral Pneumonia-42.png  \n",
            "  inflating: covid_dataset/Viral Pneumonia/Viral Pneumonia-43.png  \n",
            "  inflating: covid_dataset/Viral Pneumonia/Viral Pneumonia-44.png  \n",
            "  inflating: covid_dataset/Viral Pneumonia/Viral Pneumonia-45.png  \n",
            "  inflating: covid_dataset/Viral Pneumonia/Viral Pneumonia-46.png  \n",
            "  inflating: covid_dataset/Viral Pneumonia/Viral Pneumonia-47.png  \n",
            "  inflating: covid_dataset/Viral Pneumonia/Viral Pneumonia-48.png  \n",
            "  inflating: covid_dataset/Viral Pneumonia/Viral Pneumonia-49.png  \n",
            "  inflating: covid_dataset/Viral Pneumonia/Viral Pneumonia-5.png  \n",
            "  inflating: covid_dataset/Viral Pneumonia/Viral Pneumonia-50.png  \n",
            "  inflating: covid_dataset/Viral Pneumonia/Viral Pneumonia-6.png  \n",
            "  inflating: covid_dataset/Viral Pneumonia/Viral Pneumonia-7.png  \n",
            "  inflating: covid_dataset/Viral Pneumonia/Viral Pneumonia-8.png  \n",
            "  inflating: covid_dataset/Viral Pneumonia/Viral Pneumonia-9.png  \n"
          ]
        }
      ],
      "source": [
        "!unzip /content/drive/MyDrive/covid_dataset.zip"
      ]
    },
    {
      "cell_type": "markdown",
      "metadata": {
        "id": "xvuRmzA0tNw0"
      },
      "source": [
        "**4. Install split folder python package**\n",
        "\n",
        "https://pypi.org/project/split-folders/"
      ]
    },
    {
      "cell_type": "code",
      "execution_count": 6,
      "metadata": {
        "colab": {
          "base_uri": "https://localhost:8080/"
        },
        "id": "r-4b_r2qlenB",
        "outputId": "a528b93b-70ec-49db-cf70-9246713a18af"
      },
      "outputs": [
        {
          "output_type": "stream",
          "name": "stdout",
          "text": [
            "Looking in indexes: https://pypi.org/simple, https://us-python.pkg.dev/colab-wheels/public/simple/\n",
            "Collecting split_folders\n",
            "  Downloading split_folders-0.5.1-py3-none-any.whl (8.4 kB)\n",
            "Installing collected packages: split_folders\n",
            "Successfully installed split_folders-0.5.1\n"
          ]
        }
      ],
      "source": [
        "!pip install split_folders"
      ]
    },
    {
      "cell_type": "markdown",
      "metadata": {
        "id": "yq0KuuUatVi-"
      },
      "source": [
        "**5. Splitting the data in training, testing and validation set**"
      ]
    },
    {
      "cell_type": "code",
      "execution_count": 7,
      "metadata": {
        "colab": {
          "base_uri": "https://localhost:8080/"
        },
        "id": "8xXGHVOIlheA",
        "outputId": "57368010-2d53-4f91-911e-ae51a1fa77e1"
      },
      "outputs": [
        {
          "output_type": "stream",
          "name": "stderr",
          "text": [
            "Copying files: 150 files [00:00, 6596.27 files/s]\n"
          ]
        }
      ],
      "source": [
        "import splitfolders\n",
        "splitfolders.ratio(\"covid_dataset\", output=\"split\", seed=1337, ratio=(.8, .1, .1), group_prefix=None)"
      ]
    },
    {
      "cell_type": "markdown",
      "metadata": {
        "id": "4_rTBEKCtaTR"
      },
      "source": [
        "**6. Loading the dataset with normalization in batches**"
      ]
    },
    {
      "cell_type": "code",
      "execution_count": 8,
      "metadata": {
        "id": "4of-TiQPlkCZ",
        "colab": {
          "base_uri": "https://localhost:8080/"
        },
        "outputId": "8402da33-4715-461d-ad6d-969fcb9c0eb6"
      },
      "outputs": [
        {
          "output_type": "stream",
          "name": "stdout",
          "text": [
            "Found 120 images belonging to 3 classes.\n",
            "Found 15 images belonging to 3 classes.\n",
            "Found 15 images belonging to 3 classes.\n"
          ]
        }
      ],
      "source": [
        "from keras.preprocessing.image import ImageDataGenerator\n",
        "\n",
        "# Normalize training and validation data in the range of 0 to 1\n",
        "train_datagen = ImageDataGenerator(rescale=1./255)\n",
        "validation_datagen = ImageDataGenerator(rescale=1./255)\n",
        "test_datagen = ImageDataGenerator(rescale=1./255)\n",
        "\n",
        "# Read the training sample and set the batch size \n",
        "train_generator = train_datagen.flow_from_directory(\n",
        "        'split/train/',\n",
        "        target_size=(128, 128),\n",
        "        batch_size=8,\n",
        "        seed=100,\n",
        "        class_mode='categorical')\n",
        "\n",
        "# Read Validation data from directory and define target size with batch size\n",
        "validation_generator = validation_datagen.flow_from_directory(\n",
        "        'split/val/',\n",
        "        target_size=(128, 128),\n",
        "        batch_size=8,\n",
        "        class_mode='categorical',\n",
        "        seed=1000,\n",
        "        shuffle=False)\n",
        "\n",
        "test_generator = test_datagen.flow_from_directory(\n",
        "        'split/test/',\n",
        "        target_size=(128, 128),\n",
        "        batch_size=8,\n",
        "        seed=500,\n",
        "        class_mode='categorical',\n",
        "        shuffle=False)"
      ]
    },
    {
      "cell_type": "markdown",
      "metadata": {
        "id": "ZqmlFmyitf8O"
      },
      "source": [
        "**7. Model Building**"
      ]
    },
    {
      "cell_type": "code",
      "execution_count": 9,
      "metadata": {
        "id": "RrA7f0eKl4tH",
        "colab": {
          "base_uri": "https://localhost:8080/"
        },
        "outputId": "6027399a-2ea5-4bed-9f28-bfe69ff82617"
      },
      "outputs": [
        {
          "output_type": "stream",
          "name": "stdout",
          "text": [
            "Model: \"model\"\n",
            "_________________________________________________________________\n",
            " Layer (type)                Output Shape              Param #   \n",
            "=================================================================\n",
            " input_1 (InputLayer)        [(None, 128, 128, 3)]     0         \n",
            "                                                                 \n",
            " flatten (Flatten)           (None, 49152)             0         \n",
            "                                                                 \n",
            " dense (Dense)               (None, 32)                1572896   \n",
            "                                                                 \n",
            " dense_1 (Dense)             (None, 64)                2112      \n",
            "                                                                 \n",
            " dense_2 (Dense)             (None, 3)                 195       \n",
            "                                                                 \n",
            "=================================================================\n",
            "Total params: 1,575,203\n",
            "Trainable params: 1,575,203\n",
            "Non-trainable params: 0\n",
            "_________________________________________________________________\n"
          ]
        }
      ],
      "source": [
        "from tensorflow import keras\n",
        "from tensorflow.keras import layers\n",
        "inputs = keras.Input(shape=(128, 128,3))\n",
        "x = layers.Flatten()(inputs)\n",
        "x = layers.Dense(32, activation=\"relu\")(x)\n",
        "x = layers.Dense(64, activation='relu')(x)\n",
        "outputs = layers.Dense(3, activation=\"softmax\")(x)\n",
        "model = keras.Model(inputs, outputs)\n",
        "model.summary()"
      ]
    },
    {
      "cell_type": "markdown",
      "metadata": {
        "id": "_437haxhtjFa"
      },
      "source": [
        "**8. Model Compilation and Training**"
      ]
    },
    {
      "cell_type": "code",
      "execution_count": 10,
      "metadata": {
        "id": "DixxjVJelrcg",
        "colab": {
          "base_uri": "https://localhost:8080/"
        },
        "outputId": "6ff974c0-e900-4366-c027-e0a3ee0455b7"
      },
      "outputs": [
        {
          "output_type": "stream",
          "name": "stdout",
          "text": [
            "Epoch 1/100\n",
            "15/15 [==============================] - 6s 37ms/step - loss: 1.1273 - acc: 0.4250 - val_loss: 0.9284 - val_acc: 0.6000\n",
            "Epoch 2/100\n",
            "15/15 [==============================] - 0s 24ms/step - loss: 0.8166 - acc: 0.6333 - val_loss: 0.6860 - val_acc: 0.8000\n",
            "Epoch 3/100\n",
            "15/15 [==============================] - 0s 25ms/step - loss: 0.7429 - acc: 0.6583 - val_loss: 0.5747 - val_acc: 0.8667\n",
            "Epoch 4/100\n",
            "15/15 [==============================] - 0s 24ms/step - loss: 0.7172 - acc: 0.7250 - val_loss: 0.5442 - val_acc: 0.8000\n",
            "Epoch 5/100\n",
            "15/15 [==============================] - 0s 23ms/step - loss: 0.5748 - acc: 0.7583 - val_loss: 0.5622 - val_acc: 0.8667\n",
            "Epoch 6/100\n",
            "15/15 [==============================] - 0s 23ms/step - loss: 0.5035 - acc: 0.8167 - val_loss: 0.6107 - val_acc: 0.6000\n",
            "Epoch 7/100\n",
            "15/15 [==============================] - 0s 25ms/step - loss: 0.5532 - acc: 0.7417 - val_loss: 0.5207 - val_acc: 0.8000\n",
            "Epoch 8/100\n",
            "15/15 [==============================] - 0s 23ms/step - loss: 0.4569 - acc: 0.8000 - val_loss: 0.4463 - val_acc: 0.8667\n",
            "Epoch 9/100\n",
            "15/15 [==============================] - 0s 22ms/step - loss: 0.4803 - acc: 0.8083 - val_loss: 0.4064 - val_acc: 0.8667\n",
            "Epoch 10/100\n",
            "15/15 [==============================] - 1s 37ms/step - loss: 0.5174 - acc: 0.7833 - val_loss: 0.4926 - val_acc: 0.9333\n",
            "Epoch 11/100\n",
            "15/15 [==============================] - 1s 36ms/step - loss: 0.5660 - acc: 0.7417 - val_loss: 0.6951 - val_acc: 0.6667\n",
            "Epoch 12/100\n",
            "15/15 [==============================] - 1s 40ms/step - loss: 0.4938 - acc: 0.7667 - val_loss: 0.5851 - val_acc: 0.6667\n",
            "Epoch 13/100\n",
            "15/15 [==============================] - 1s 36ms/step - loss: 0.5074 - acc: 0.7833 - val_loss: 0.5657 - val_acc: 0.6667\n",
            "Epoch 14/100\n",
            "15/15 [==============================] - 1s 42ms/step - loss: 0.4243 - acc: 0.8333 - val_loss: 0.5830 - val_acc: 0.7333\n",
            "Epoch 15/100\n",
            "15/15 [==============================] - 0s 24ms/step - loss: 0.4496 - acc: 0.7833 - val_loss: 0.3556 - val_acc: 0.8000\n",
            "Epoch 16/100\n",
            "15/15 [==============================] - 0s 25ms/step - loss: 0.3415 - acc: 0.8417 - val_loss: 0.4909 - val_acc: 0.8000\n",
            "Epoch 17/100\n",
            "15/15 [==============================] - 0s 24ms/step - loss: 0.3243 - acc: 0.8667 - val_loss: 0.4034 - val_acc: 0.8667\n",
            "Epoch 18/100\n",
            "15/15 [==============================] - 0s 25ms/step - loss: 0.3175 - acc: 0.8667 - val_loss: 0.4237 - val_acc: 0.8667\n",
            "Epoch 19/100\n",
            "15/15 [==============================] - 0s 25ms/step - loss: 0.2759 - acc: 0.9250 - val_loss: 0.4355 - val_acc: 0.7333\n",
            "Epoch 20/100\n",
            "15/15 [==============================] - 0s 24ms/step - loss: 0.2666 - acc: 0.9083 - val_loss: 0.3446 - val_acc: 0.9333\n",
            "Epoch 21/100\n",
            "15/15 [==============================] - 0s 26ms/step - loss: 0.3405 - acc: 0.8583 - val_loss: 0.3047 - val_acc: 0.9333\n",
            "Epoch 22/100\n",
            "15/15 [==============================] - 0s 24ms/step - loss: 0.3243 - acc: 0.9000 - val_loss: 0.3328 - val_acc: 0.8667\n",
            "Epoch 23/100\n",
            "15/15 [==============================] - 0s 24ms/step - loss: 0.2547 - acc: 0.9167 - val_loss: 0.4632 - val_acc: 0.8000\n",
            "Epoch 24/100\n",
            "15/15 [==============================] - 0s 24ms/step - loss: 0.2671 - acc: 0.9167 - val_loss: 0.5242 - val_acc: 0.7333\n",
            "Epoch 25/100\n",
            "15/15 [==============================] - 0s 24ms/step - loss: 0.2856 - acc: 0.9000 - val_loss: 0.3905 - val_acc: 0.8667\n",
            "Epoch 26/100\n",
            "15/15 [==============================] - 0s 24ms/step - loss: 0.2165 - acc: 0.9333 - val_loss: 0.6047 - val_acc: 0.6667\n",
            "Epoch 27/100\n",
            "15/15 [==============================] - 0s 24ms/step - loss: 0.1888 - acc: 0.9583 - val_loss: 0.4643 - val_acc: 0.8000\n",
            "Epoch 28/100\n",
            "15/15 [==============================] - 0s 23ms/step - loss: 0.2328 - acc: 0.9167 - val_loss: 0.4209 - val_acc: 0.8667\n",
            "Epoch 29/100\n",
            "15/15 [==============================] - 0s 24ms/step - loss: 0.2019 - acc: 0.9667 - val_loss: 0.3164 - val_acc: 0.8667\n",
            "Epoch 30/100\n",
            "15/15 [==============================] - 0s 23ms/step - loss: 0.2054 - acc: 0.9667 - val_loss: 0.3689 - val_acc: 0.8667\n",
            "Epoch 31/100\n",
            "15/15 [==============================] - 0s 23ms/step - loss: 0.1751 - acc: 0.9583 - val_loss: 0.6350 - val_acc: 0.6667\n",
            "Epoch 32/100\n",
            "15/15 [==============================] - 0s 24ms/step - loss: 0.2145 - acc: 0.9500 - val_loss: 0.5381 - val_acc: 0.8000\n",
            "Epoch 33/100\n",
            "15/15 [==============================] - 0s 23ms/step - loss: 0.1673 - acc: 0.9750 - val_loss: 0.4572 - val_acc: 0.8000\n",
            "Epoch 34/100\n",
            "15/15 [==============================] - 0s 23ms/step - loss: 0.1741 - acc: 0.9583 - val_loss: 0.3934 - val_acc: 0.8667\n",
            "Epoch 35/100\n",
            "15/15 [==============================] - 0s 23ms/step - loss: 0.1798 - acc: 0.9500 - val_loss: 0.4762 - val_acc: 0.6667\n",
            "Epoch 36/100\n",
            "15/15 [==============================] - 0s 24ms/step - loss: 0.1816 - acc: 0.9500 - val_loss: 0.3519 - val_acc: 0.8667\n",
            "Epoch 37/100\n",
            "15/15 [==============================] - 0s 24ms/step - loss: 0.1519 - acc: 0.9750 - val_loss: 0.4440 - val_acc: 0.8667\n",
            "Epoch 38/100\n",
            "15/15 [==============================] - 0s 23ms/step - loss: 0.1437 - acc: 0.9583 - val_loss: 0.4202 - val_acc: 0.8667\n",
            "Epoch 39/100\n",
            "15/15 [==============================] - 0s 33ms/step - loss: 0.1314 - acc: 0.9750 - val_loss: 0.3515 - val_acc: 0.8667\n",
            "Epoch 40/100\n",
            "15/15 [==============================] - 1s 44ms/step - loss: 0.1623 - acc: 0.9583 - val_loss: 0.4557 - val_acc: 0.8000\n",
            "Epoch 41/100\n",
            "15/15 [==============================] - 1s 42ms/step - loss: 0.1612 - acc: 0.9417 - val_loss: 0.4275 - val_acc: 0.8000\n",
            "Epoch 42/100\n",
            "15/15 [==============================] - 1s 40ms/step - loss: 0.1445 - acc: 0.9667 - val_loss: 0.4553 - val_acc: 0.8000\n",
            "Epoch 43/100\n",
            "15/15 [==============================] - 1s 34ms/step - loss: 0.1191 - acc: 0.9750 - val_loss: 0.4591 - val_acc: 0.8000\n",
            "Epoch 44/100\n",
            "15/15 [==============================] - 0s 27ms/step - loss: 0.1181 - acc: 0.9917 - val_loss: 0.3783 - val_acc: 0.8667\n",
            "Epoch 45/100\n",
            "15/15 [==============================] - 0s 27ms/step - loss: 0.1237 - acc: 0.9917 - val_loss: 0.3719 - val_acc: 0.8667\n",
            "Epoch 46/100\n",
            "15/15 [==============================] - 0s 24ms/step - loss: 0.1315 - acc: 0.9750 - val_loss: 0.4771 - val_acc: 0.8000\n",
            "Epoch 47/100\n",
            "15/15 [==============================] - 0s 25ms/step - loss: 0.1145 - acc: 0.9833 - val_loss: 0.4313 - val_acc: 0.8667\n",
            "Epoch 48/100\n",
            "15/15 [==============================] - 0s 25ms/step - loss: 0.0971 - acc: 0.9917 - val_loss: 0.3947 - val_acc: 0.8667\n",
            "Epoch 49/100\n",
            "15/15 [==============================] - 0s 26ms/step - loss: 0.0970 - acc: 0.9917 - val_loss: 0.3778 - val_acc: 0.8667\n",
            "Epoch 50/100\n",
            "15/15 [==============================] - 0s 26ms/step - loss: 0.1519 - acc: 0.9583 - val_loss: 0.4279 - val_acc: 0.9333\n",
            "Epoch 51/100\n",
            "15/15 [==============================] - 0s 25ms/step - loss: 0.1324 - acc: 0.9500 - val_loss: 0.6255 - val_acc: 0.6667\n",
            "Epoch 52/100\n",
            "15/15 [==============================] - 0s 25ms/step - loss: 0.1613 - acc: 0.9417 - val_loss: 0.6544 - val_acc: 0.6667\n",
            "Epoch 53/100\n",
            "15/15 [==============================] - 0s 24ms/step - loss: 0.1051 - acc: 0.9667 - val_loss: 0.4176 - val_acc: 0.8667\n",
            "Epoch 54/100\n",
            "15/15 [==============================] - 0s 24ms/step - loss: 0.1021 - acc: 0.9833 - val_loss: 0.4356 - val_acc: 0.8667\n",
            "Epoch 55/100\n",
            "15/15 [==============================] - 0s 24ms/step - loss: 0.1272 - acc: 0.9500 - val_loss: 0.5251 - val_acc: 0.8000\n",
            "Epoch 56/100\n",
            "15/15 [==============================] - 0s 23ms/step - loss: 0.1016 - acc: 0.9750 - val_loss: 0.6506 - val_acc: 0.6000\n",
            "Epoch 57/100\n",
            "15/15 [==============================] - 0s 24ms/step - loss: 0.1048 - acc: 0.9833 - val_loss: 0.5659 - val_acc: 0.8000\n",
            "Epoch 58/100\n",
            "15/15 [==============================] - 0s 26ms/step - loss: 0.0812 - acc: 0.9917 - val_loss: 0.4502 - val_acc: 0.8667\n",
            "Epoch 59/100\n",
            "15/15 [==============================] - 0s 26ms/step - loss: 0.1104 - acc: 0.9750 - val_loss: 0.4953 - val_acc: 0.8667\n",
            "Epoch 60/100\n",
            "15/15 [==============================] - 0s 25ms/step - loss: 0.0853 - acc: 0.9833 - val_loss: 0.5276 - val_acc: 0.8000\n",
            "Epoch 61/100\n",
            "15/15 [==============================] - 0s 25ms/step - loss: 0.0795 - acc: 0.9833 - val_loss: 0.3954 - val_acc: 0.8667\n",
            "Epoch 62/100\n",
            "15/15 [==============================] - 0s 25ms/step - loss: 0.0673 - acc: 0.9917 - val_loss: 0.4120 - val_acc: 0.8667\n",
            "Epoch 63/100\n",
            "15/15 [==============================] - 0s 24ms/step - loss: 0.0746 - acc: 0.9917 - val_loss: 0.4154 - val_acc: 0.8667\n",
            "Epoch 64/100\n",
            "15/15 [==============================] - 0s 23ms/step - loss: 0.0647 - acc: 0.9917 - val_loss: 0.4066 - val_acc: 0.8667\n",
            "Epoch 65/100\n",
            "15/15 [==============================] - 0s 24ms/step - loss: 0.0725 - acc: 0.9917 - val_loss: 0.5908 - val_acc: 0.8000\n",
            "Epoch 66/100\n",
            "15/15 [==============================] - 0s 23ms/step - loss: 0.0863 - acc: 1.0000 - val_loss: 0.8721 - val_acc: 0.7333\n",
            "Epoch 67/100\n",
            "15/15 [==============================] - 0s 24ms/step - loss: 0.1049 - acc: 0.9750 - val_loss: 0.5127 - val_acc: 0.8000\n",
            "Epoch 68/100\n",
            "15/15 [==============================] - 0s 33ms/step - loss: 0.0561 - acc: 0.9917 - val_loss: 0.3508 - val_acc: 0.8667\n",
            "Epoch 69/100\n",
            "15/15 [==============================] - 1s 41ms/step - loss: 0.0718 - acc: 0.9917 - val_loss: 0.4802 - val_acc: 0.8000\n",
            "Epoch 70/100\n",
            "15/15 [==============================] - 1s 41ms/step - loss: 0.0749 - acc: 0.9833 - val_loss: 0.3854 - val_acc: 0.8667\n",
            "Epoch 71/100\n",
            "15/15 [==============================] - 1s 34ms/step - loss: 0.0420 - acc: 1.0000 - val_loss: 0.5644 - val_acc: 0.7333\n",
            "Epoch 72/100\n",
            "15/15 [==============================] - 0s 31ms/step - loss: 0.0536 - acc: 1.0000 - val_loss: 0.4881 - val_acc: 0.8000\n",
            "Epoch 73/100\n",
            "15/15 [==============================] - 0s 24ms/step - loss: 0.0727 - acc: 0.9917 - val_loss: 0.5400 - val_acc: 0.7333\n",
            "Epoch 74/100\n",
            "15/15 [==============================] - 0s 25ms/step - loss: 0.0563 - acc: 1.0000 - val_loss: 0.4731 - val_acc: 0.8667\n",
            "Epoch 75/100\n",
            "15/15 [==============================] - 0s 24ms/step - loss: 0.0444 - acc: 1.0000 - val_loss: 0.3743 - val_acc: 0.8667\n",
            "Epoch 76/100\n",
            "15/15 [==============================] - 0s 25ms/step - loss: 0.0430 - acc: 1.0000 - val_loss: 0.5058 - val_acc: 0.7333\n",
            "Epoch 77/100\n",
            "15/15 [==============================] - 0s 26ms/step - loss: 0.0389 - acc: 1.0000 - val_loss: 0.4284 - val_acc: 0.6667\n",
            "Epoch 78/100\n",
            "15/15 [==============================] - 0s 24ms/step - loss: 0.0502 - acc: 0.9917 - val_loss: 0.5094 - val_acc: 0.7333\n",
            "Epoch 79/100\n",
            "15/15 [==============================] - 0s 24ms/step - loss: 0.0626 - acc: 1.0000 - val_loss: 0.4253 - val_acc: 0.8000\n",
            "Epoch 80/100\n",
            "15/15 [==============================] - 0s 24ms/step - loss: 0.0403 - acc: 1.0000 - val_loss: 0.5025 - val_acc: 0.8000\n",
            "Epoch 81/100\n",
            "15/15 [==============================] - 0s 26ms/step - loss: 0.0323 - acc: 1.0000 - val_loss: 0.4669 - val_acc: 0.8000\n",
            "Epoch 82/100\n",
            "15/15 [==============================] - 0s 23ms/step - loss: 0.0365 - acc: 1.0000 - val_loss: 0.4269 - val_acc: 0.8667\n",
            "Epoch 83/100\n",
            "15/15 [==============================] - 0s 25ms/step - loss: 0.0354 - acc: 1.0000 - val_loss: 0.4785 - val_acc: 0.8667\n",
            "Epoch 84/100\n",
            "15/15 [==============================] - 0s 25ms/step - loss: 0.0472 - acc: 1.0000 - val_loss: 0.5002 - val_acc: 0.8000\n",
            "Epoch 85/100\n",
            "15/15 [==============================] - 0s 24ms/step - loss: 0.0316 - acc: 1.0000 - val_loss: 0.6009 - val_acc: 0.8000\n",
            "Epoch 86/100\n",
            "15/15 [==============================] - 0s 25ms/step - loss: 0.0370 - acc: 1.0000 - val_loss: 0.4531 - val_acc: 0.8667\n",
            "Epoch 87/100\n",
            "15/15 [==============================] - 0s 24ms/step - loss: 0.0363 - acc: 1.0000 - val_loss: 0.6035 - val_acc: 0.7333\n",
            "Epoch 88/100\n",
            "15/15 [==============================] - 0s 24ms/step - loss: 0.0666 - acc: 0.9833 - val_loss: 0.4725 - val_acc: 0.8000\n",
            "Epoch 89/100\n",
            "15/15 [==============================] - 0s 24ms/step - loss: 0.0772 - acc: 0.9833 - val_loss: 0.5165 - val_acc: 0.8000\n",
            "Epoch 90/100\n",
            "15/15 [==============================] - 0s 25ms/step - loss: 0.0874 - acc: 0.9750 - val_loss: 0.6960 - val_acc: 0.7333\n",
            "Epoch 91/100\n",
            "15/15 [==============================] - 0s 24ms/step - loss: 0.0699 - acc: 0.9833 - val_loss: 0.5962 - val_acc: 0.8000\n",
            "Epoch 92/100\n",
            "15/15 [==============================] - 0s 24ms/step - loss: 0.0502 - acc: 0.9833 - val_loss: 0.5141 - val_acc: 0.8000\n",
            "Epoch 93/100\n",
            "15/15 [==============================] - 0s 24ms/step - loss: 0.0339 - acc: 1.0000 - val_loss: 0.4347 - val_acc: 0.6667\n",
            "Epoch 94/100\n",
            "15/15 [==============================] - 0s 25ms/step - loss: 0.0258 - acc: 1.0000 - val_loss: 0.4853 - val_acc: 0.8667\n",
            "Epoch 95/100\n",
            "15/15 [==============================] - 0s 24ms/step - loss: 0.0233 - acc: 1.0000 - val_loss: 0.4710 - val_acc: 0.8000\n",
            "Epoch 96/100\n",
            "15/15 [==============================] - 0s 23ms/step - loss: 0.0235 - acc: 1.0000 - val_loss: 0.5258 - val_acc: 0.7333\n",
            "Epoch 97/100\n",
            "15/15 [==============================] - 1s 35ms/step - loss: 0.0229 - acc: 1.0000 - val_loss: 0.4099 - val_acc: 0.8000\n",
            "Epoch 98/100\n",
            "15/15 [==============================] - 1s 37ms/step - loss: 0.0263 - acc: 1.0000 - val_loss: 0.5044 - val_acc: 0.8000\n",
            "Epoch 99/100\n",
            "15/15 [==============================] - 1s 35ms/step - loss: 0.0291 - acc: 1.0000 - val_loss: 0.4497 - val_acc: 0.8000\n",
            "Epoch 100/100\n",
            "15/15 [==============================] - 1s 41ms/step - loss: 0.0253 - acc: 1.0000 - val_loss: 0.6097 - val_acc: 0.8000\n"
          ]
        }
      ],
      "source": [
        "from tensorflow.keras.optimizers import Adam\n",
        "\n",
        "adam = Adam(learning_rate=0.0001)\n",
        "# We are going to use accuracy metrics and cross entropy loss as performance parameters\n",
        "model.compile(adam, loss='categorical_crossentropy', metrics=['acc'])\n",
        "# Train the model \n",
        "history = model.fit(train_generator, \n",
        "      steps_per_epoch=train_generator.samples/train_generator.batch_size,\n",
        "      epochs=100,\n",
        "      validation_data=validation_generator,\n",
        "      validation_steps=validation_generator.samples/validation_generator.batch_size,\n",
        "      verbose=1)"
      ]
    },
    {
      "cell_type": "markdown",
      "metadata": {
        "id": "7h2kqqa0tpx9"
      },
      "source": [
        "**9. Model saving**"
      ]
    },
    {
      "cell_type": "code",
      "execution_count": 11,
      "metadata": {
        "id": "AMlZWxBhnfjh"
      },
      "outputs": [],
      "source": [
        "model.save('covid_classification.h5')"
      ]
    },
    {
      "cell_type": "markdown",
      "metadata": {
        "id": "v64VrifGtsSn"
      },
      "source": [
        "**10. Model loading**"
      ]
    },
    {
      "cell_type": "code",
      "execution_count": 12,
      "metadata": {
        "id": "h5kAXwzBoIzp"
      },
      "outputs": [],
      "source": [
        "from tensorflow.keras import models\n",
        "model = models.load_model('covid_classification.h5')"
      ]
    },
    {
      "cell_type": "markdown",
      "metadata": {
        "id": "EuGiWfjQtvDq"
      },
      "source": [
        "**11. Model weights saving**"
      ]
    },
    {
      "cell_type": "code",
      "execution_count": 13,
      "metadata": {
        "id": "brmKRhGtoZVA"
      },
      "outputs": [],
      "source": [
        "model.save_weights('covid_classification_weights.h5')"
      ]
    },
    {
      "cell_type": "markdown",
      "metadata": {
        "id": "g_mHfakptxUF"
      },
      "source": [
        "**12. Model weights loading**"
      ]
    },
    {
      "cell_type": "code",
      "execution_count": 14,
      "metadata": {
        "id": "Oc3YG_vioL9a"
      },
      "outputs": [],
      "source": [
        "model.load_weights('covid_classification_weights.h5')"
      ]
    },
    {
      "cell_type": "markdown",
      "metadata": {
        "id": "YJhgz0AAtzcm"
      },
      "source": [
        "**13. Plotting accuracy and loss graph for training and validation dataset**"
      ]
    },
    {
      "cell_type": "code",
      "execution_count": 15,
      "metadata": {
        "id": "lKLbBshSocU6"
      },
      "outputs": [],
      "source": [
        "train_acc = history.history['acc']\n",
        "val_acc = history.history['val_acc']\n",
        "train_loss = history.history['loss']\n",
        "val_loss = history.history['val_loss']"
      ]
    },
    {
      "cell_type": "code",
      "execution_count": 16,
      "metadata": {
        "id": "BfqOqEpVogvN",
        "colab": {
          "base_uri": "https://localhost:8080/",
          "height": 562
        },
        "outputId": "85754d0c-c7ac-4fdc-970a-b111b0ca6346"
      },
      "outputs": [
        {
          "output_type": "display_data",
          "data": {
            "text/plain": [
              "<Figure size 432x288 with 1 Axes>"
            ],
            "image/png": "[encoded data removed]"
          },
          "metadata": {
            "needs_background": "light"
          }
        },
        {
          "output_type": "display_data",
          "data": {
            "text/plain": [
              "<Figure size 432x288 with 0 Axes>"
            ]
          },
          "metadata": {}
        },
        {
          "output_type": "display_data",
          "data": {
            "text/plain": [
              "<Figure size 432x288 with 1 Axes>"
            ],
            "image/png": "[encoded data removed]"
          },
          "metadata": {
            "needs_background": "light"
          }
        }
      ],
      "source": [
        "import matplotlib.pyplot as plt\n",
        "epochs = range(len(train_acc)) \n",
        "plt.plot(epochs, train_acc, 'b', label='Training Accuracy')\n",
        "plt.plot(epochs, val_acc, 'r', label='Validation Accuracy')\n",
        "plt.title('Training and Validation Accuracy')\n",
        "plt.legend()\n",
        "plt.figure()\n",
        "plt.show()\n",
        "\n",
        "plt.plot(epochs, train_loss, 'b', label='Training Loss')\n",
        "plt.plot(epochs, val_loss, 'r', label='Validation Loss')\n",
        "plt.title('Training and Validation Loss')\n",
        "plt.legend()\n",
        "plt.show()\n"
      ]
    },
    {
      "cell_type": "markdown",
      "metadata": {
        "id": "LoVhONtnt3sq"
      },
      "source": [
        "**14. Evaluate model performance on test dataset**"
      ]
    },
    {
      "cell_type": "code",
      "execution_count": 17,
      "metadata": {
        "id": "dxXMTffHoiVy",
        "colab": {
          "base_uri": "https://localhost:8080/"
        },
        "outputId": "66371aae-9671-46cc-de4b-eacc120eae75"
      },
      "outputs": [
        {
          "output_type": "stream",
          "name": "stdout",
          "text": [
            "1/1 [==============================] - 0s 23ms/step - loss: 0.9225 - acc: 0.8000\n",
            "[0.9224947094917297, 0.800000011920929]\n",
            "['loss', 'acc']\n"
          ]
        }
      ],
      "source": [
        "test_output= model.evaluate(test_generator, steps=test_generator.samples/test_generator.batch_size, verbose=1)\n",
        "print(test_output)\n",
        "print(model.metrics_names)"
      ]
    },
    {
      "cell_type": "markdown",
      "metadata": {
        "id": "inzAGua1o1we"
      },
      "source": [
        "References:\n",
        "\n",
        "1. https://pypi.org/project/split-folders/\n",
        "2. https://keras.io/"
      ]
    }
  ],
  "metadata": {
    "accelerator": "GPU",
    "colab": {
      "provenance": [],
      "include_colab_link": true
    },
    "kernelspec": {
      "display_name": "Python 3",
      "name": "python3"
    },
    "language_info": {
      "name": "python"
    }
  },
  "nbformat": 4,
  "nbformat_minor": 0
}